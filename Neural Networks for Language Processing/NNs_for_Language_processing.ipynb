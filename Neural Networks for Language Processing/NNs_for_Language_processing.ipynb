{
  "nbformat": 4,
  "nbformat_minor": 0,
  "metadata": {
    "colab": {
      "provenance": []
    },
    "kernelspec": {
      "name": "python3",
      "display_name": "Python 3"
    },
    "language_info": {
      "name": "python"
    }
  },
  "cells": [
    {
      "cell_type": "code",
      "execution_count": 25,
      "metadata": {
        "id": "LJ5o75WPlZO5"
      },
      "outputs": [],
      "source": [
        "import numpy as np\n",
        "import pandas as pd\n",
        "import matplotlib.pyplot as plt\n",
        "\n",
        "import tensorflow as tf\n",
        "\n",
        "from tensorflow.keras.datasets import imdb\n",
        "\n",
        "from tensorflow.keras.models import Sequential\n",
        "from tensorflow.keras.layers import Input, Dense, Dropout, Flatten, LSTM, Bidirectional, Embedding"
      ]
    },
    {
      "cell_type": "markdown",
      "source": [
        "**Neural Networks for Language Processing**"
      ],
      "metadata": {
        "id": "bVMkhF-kl7He"
      }
    },
    {
      "cell_type": "code",
      "source": [
        "VOCABULARY_SIZE = 10000\n",
        "OOV = - 1\n",
        "SEQUENCE_LENGTH = 800"
      ],
      "metadata": {
        "id": "AMYFd8oHFLTr"
      },
      "execution_count": 9,
      "outputs": []
    },
    {
      "cell_type": "code",
      "source": [
        "(x_train, y_train), (x_test, y_test) = imdb.load_data(num_words = VOCABULARY_SIZE, oov_char = OOV)"
      ],
      "metadata": {
        "id": "UqWbREvamDK5"
      },
      "execution_count": 10,
      "outputs": []
    },
    {
      "cell_type": "code",
      "source": [
        "tf.keras.utils.pad_sequences(x_train[0:5], maxlen = SEQUENCE_LENGTH, padding = \"post\")"
      ],
      "metadata": {
        "colab": {
          "base_uri": "https://localhost:8080/"
        },
        "id": "ZtQXxH_EnFaY",
        "outputId": "cb8542ec-cf46-4ec4-db2f-c80a66940a34"
      },
      "execution_count": 11,
      "outputs": [
        {
          "output_type": "execute_result",
          "data": {
            "text/plain": [
              "array([[   1,   14,   22, ...,    0,    0,    0],\n",
              "       [   1,  194, 1153, ...,    0,    0,    0],\n",
              "       [   1,   14,   47, ...,    0,    0,    0],\n",
              "       [   1,    4,   -1, ...,    0,    0,    0],\n",
              "       [   1,  249, 1323, ...,    0,    0,    0]], dtype=int32)"
            ]
          },
          "metadata": {},
          "execution_count": 11
        }
      ]
    },
    {
      "cell_type": "code",
      "source": [
        "model = Sequential([\n",
        "    Input((SEQUENCE_LENGTH, 32)),\n",
        "    LSTM(5, return_sequences = True),\n",
        "    LSTM(10, return_sequences = True),\n",
        "    LSTM(5),\n",
        "    Flatten(),\n",
        "    Dense(VOCABULARY_SIZE, activation = \"sigmoid\")\n",
        "])"
      ],
      "metadata": {
        "id": "dPnqhmaAFdBw"
      },
      "execution_count": 20,
      "outputs": []
    },
    {
      "cell_type": "code",
      "source": [
        "model.summary()"
      ],
      "metadata": {
        "colab": {
          "base_uri": "https://localhost:8080/"
        },
        "id": "l7JQ5_lDGOGs",
        "outputId": "f5b66554-e68d-4fcd-af01-5e9194f263fd"
      },
      "execution_count": 21,
      "outputs": [
        {
          "output_type": "stream",
          "name": "stdout",
          "text": [
            "Model: \"sequential_4\"\n",
            "_________________________________________________________________\n",
            " Layer (type)                Output Shape              Param #   \n",
            "=================================================================\n",
            " lstm_8 (LSTM)               (None, 800, 5)            760       \n",
            "                                                                 \n",
            " lstm_9 (LSTM)               (None, 800, 10)           640       \n",
            "                                                                 \n",
            " lstm_10 (LSTM)              (None, 5)                 320       \n",
            "                                                                 \n",
            " flatten_1 (Flatten)         (None, 5)                 0         \n",
            "                                                                 \n",
            " dense_2 (Dense)             (None, 10000)             60000     \n",
            "                                                                 \n",
            "=================================================================\n",
            "Total params: 61720 (241.09 KB)\n",
            "Trainable params: 61720 (241.09 KB)\n",
            "Non-trainable params: 0 (0.00 Byte)\n",
            "_________________________________________________________________\n"
          ]
        }
      ]
    },
    {
      "cell_type": "code",
      "source": [
        "bidirectional_model = Sequential([\n",
        "    Input((SEQUENCE_LENGTH, 32)),\n",
        "    Bidirectional(LSTM(5, return_sequences = True))\n",
        "])"
      ],
      "metadata": {
        "id": "06BybZlyKeiq"
      },
      "execution_count": 23,
      "outputs": []
    },
    {
      "cell_type": "code",
      "source": [
        "bidirectional_model.summary()"
      ],
      "metadata": {
        "colab": {
          "base_uri": "https://localhost:8080/"
        },
        "id": "iXTmqoUAKpPv",
        "outputId": "5f804a54-50d8-45c4-cc54-b051a52d71c7"
      },
      "execution_count": 24,
      "outputs": [
        {
          "output_type": "stream",
          "name": "stdout",
          "text": [
            "Model: \"sequential_5\"\n",
            "_________________________________________________________________\n",
            " Layer (type)                Output Shape              Param #   \n",
            "=================================================================\n",
            " bidirectional (Bidirection  (None, 800, 10)           1520      \n",
            " al)                                                             \n",
            "                                                                 \n",
            "=================================================================\n",
            "Total params: 1520 (5.94 KB)\n",
            "Trainable params: 1520 (5.94 KB)\n",
            "Non-trainable params: 0 (0.00 Byte)\n",
            "_________________________________________________________________\n"
          ]
        }
      ]
    }
  ]
}